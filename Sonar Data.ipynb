{
 "cells": [
  {
   "cell_type": "markdown",
   "metadata": {},
   "source": [
    "<h1>Mine detection from Sonar Data using Multilayer Feedforward Perceptrons and Logistic Regression techniques</h1>"
   ]
  },
  {
   "cell_type": "markdown",
   "metadata": {},
   "source": [
    "The task is to train a model to discriminate between sonar signals bounced off a metal cylinder and those bounced off a roughly cylindrical rock. Used Multilayer Feedforward Perceptrons and Logistic Regression to find the lowest misclassification error, Sensitivity and Specificity."
   ]
  },
  {
   "cell_type": "markdown",
   "metadata": {},
   "source": [
    "<b> About the Dataset </b>\n",
    "<p> </p>\n",
    "The Dataset is real data (not simulated) of sonar readings across 60 frequencies. The dataset is labelled whether the object is rock or a metal. The target is to distinguish a metallic underwater mine from a harmless rock. We first conduct imputation and outlier removal process. Then we proceed with modeling and validation to receive a final accuracy of 0.854 "
   ]
  },
  {
   "cell_type": "code",
   "execution_count": 1,
   "metadata": {},
   "outputs": [],
   "source": [
    "import pandas as pd\n",
    "from AdvancedAnalytics import ReplaceImputeEncode\n",
    "from sklearn.linear_model import LogisticRegression\n",
    "from sklearn import metrics\n",
    "from sklearn.metrics import confusion_matrix\n",
    "# importing required modules\n",
    "import numpy as np\n",
    "import matplotlib.pyplot as plt\n",
    "import seaborn as sns\n",
    "%matplotlib inline\n",
    "df = pd.read_excel(\"sonar3by5.xlsx\")"
   ]
  },
  {
   "cell_type": "code",
   "execution_count": 2,
   "metadata": {},
   "outputs": [
    {
     "name": "stdout",
     "output_type": "stream",
     "text": [
      "\n",
      "********** Data Preprocessing ***********\n",
      "Features Dictionary Contains:\n",
      "0 Interval, \n",
      "0 Binary, \n",
      "0 Nominal, and \n",
      "61 Excluded Attribute(s).\n",
      "\n",
      "Data contains 208 observations & 61 columns.\n",
      "\n",
      "\n",
      "Attribute Counts\n",
      ".......... Missing  Outliers\n",
      "R1...         5         0\n",
      "R2...         0         0\n",
      "R3...         0         0\n",
      "R4...         0         0\n",
      "R5...         0         0\n",
      "R6...         0         0\n",
      "R7...         0         0\n",
      "R8...         0         0\n",
      "R9...         5         0\n",
      "R10..         0         0\n",
      "R11..         0         0\n",
      "R12..         0         0\n",
      "R13..         0         0\n",
      "R14..         0         0\n",
      "R15..         0         0\n",
      "R16..         5         0\n",
      "R17..         0         0\n",
      "R18..         0         0\n",
      "R19..         0         0\n",
      "R20..         0         0\n",
      "R21..         0         0\n",
      "R22..         0         0\n",
      "R23..         0         0\n",
      "R24..         0         0\n",
      "R25..         0         0\n",
      "R26..         0         0\n",
      "R27..         0         0\n",
      "R28..         0         0\n",
      "R29..         0         0\n",
      "R30..         0         0\n",
      "R31..         0         0\n",
      "R32..         0         0\n",
      "R33..         0         0\n",
      "R34..         0         0\n",
      "R35..         0         0\n",
      "R36..         0         0\n",
      "R37..         0         0\n",
      "R38..         0         0\n",
      "R39..         0         0\n",
      "R40..         0         0\n",
      "R41..         0         0\n",
      "R42..         0         0\n",
      "R43..         0         0\n",
      "R44..         0         0\n",
      "R45..         0         0\n",
      "R46..         0         0\n",
      "R47..         0         0\n",
      "R48..         0         0\n",
      "R49..         0         0\n",
      "R50..         0         0\n",
      "R51..         0         0\n",
      "R52..         0         0\n",
      "R53..         0         0\n",
      "R54..         0         0\n",
      "R55..         0         0\n",
      "R56..         0         0\n",
      "R57..         0         0\n",
      "R58..         0         0\n",
      "R59..         0         0\n",
      "R60..         0         0\n"
     ]
    }
   ],
   "source": [
    "df_dropped = df.dropna(subset=[\"object\"])\n",
    "data_map = {'R1': [0,(0,1)],'R2': [0,(0,1)],'R3': [0,(0,1)],'R4': [0,(0,1)],'R5': [0,(0,1)],'R6': [0,(0,1)],'R7': [0,(0,1)],'R8': [0,(0,1)], 'R9': [0,(0,1)],'R10': [0,(0,1)],'R11': [0,(0,1)],'R12': [0,(0,1)],'R13': [0,(0,1)],'R14': [0,(0,1)],'R15': [0,(0,1)],'R16': [0,(0,1)],'R17': [0,(0,1)],'R18': [0,(0,1)], 'R19': [0,(0,1)],'R20': [0,(0,1)],'R21': [0,(0,1)],'R22': [0,(0,1)],'R23': [0,(0,1)],'R24': [0,(0,1)],'R25': [0,(0,1)],'R26': [0,(0,1)],'R27': [0,(0,1)],'R28': [0,(0,1)], 'R29': [0,(0,1)],'R30': [0,(0,1)],'R31': [0,(0,1)],'R32': [0,(0,1)],'R33': [0,(0,1)],'R34': [0,(0,1)],'R35': [0,(0,1)],'R36': [0,(0,1)],'R37': [0,(0,1)],'R38': [0,(0,1)], 'R39': [0,(0,1)],'R40': [0,(0,1)],'R41': [0,(0,1)],'R42': [0,(0,1)],'R43': [0,(0,1)],'R44': [0,(0,1)],'R45': [0,(0,1)],'R46': [0,(0,1)],'R47': [0,(0,1)],'R48': [0,(0,1)], 'R49': [0,(0,1)],'R50': [0,(0,1)],'R51': [0,(0,1)],'R52': [0,(0,1)],'R53': [0,(0,1)],'R54': [0,(0,1)],'R55': [0,(0,1)],'R56': [0,(0,1)],'R57': [0,(0,1)],'R58': [0,(0,1)], 'R59': [0,(0,1)],'R60': [0,(0,1)],}\n",
    "rie = ReplaceImputeEncode(data_map=data_map, display=True)\n",
    "df_rie = rie.fit_transform(df_dropped)"
   ]
  },
  {
   "cell_type": "code",
   "execution_count": 4,
   "metadata": {},
   "outputs": [],
   "source": [
    "df_dropped = df_dropped.fillna(df_dropped.mean())\n",
    "train=df_dropped.sample(frac=0.7,random_state=200)\n",
    "test=df_dropped.drop(train.index)\n",
    "X_train = train.drop('object', axis=1)\n",
    "y_train = train['object']\n",
    "X_test = test.drop(\"object\", axis=1) #.copy()\n",
    "y_test = test['object']\n"
   ]
  },
  {
   "cell_type": "code",
   "execution_count": 5,
   "metadata": {
    "scrolled": true
   },
   "outputs": [
    {
     "data": {
      "image/png": "[encoded data removed]",
      "text/plain": [
       "<Figure size 432x288 with 2 Axes>"
      ]
     },
     "metadata": {
      "needs_background": "light"
     },
     "output_type": "display_data"
    }
   ],
   "source": [
    "sns.heatmap(pd.DataFrame(X_test))\n",
    "plt.tight_layout()"
   ]
  },
  {
   "cell_type": "code",
   "execution_count": 6,
   "metadata": {},
   "outputs": [
    {
     "name": "stdout",
     "output_type": "stream",
     "text": [
      "[[29  8]\n",
      " [ 7 18]]\n"
     ]
    },
    {
     "name": "stderr",
     "output_type": "stream",
     "text": [
      "C:\\Users\\Arindam Baisya\\Anaconda3\\lib\\site-packages\\sklearn\\linear_model\\logistic.py:433: FutureWarning: Default solver will be changed to 'lbfgs' in 0.22. Specify a solver to silence this warning.\n",
      "  FutureWarning)\n"
     ]
    }
   ],
   "source": [
    "logreg = LogisticRegression()\n",
    "logreg.fit(X_train, y_train)\n",
    "\n",
    "y_pred = logreg.predict(X_test)\n",
    "cnf_matrix = metrics.confusion_matrix(y_test, y_pred)\n",
    "print(cnf_matrix)"
   ]
  },
  {
   "cell_type": "code",
   "execution_count": 7,
   "metadata": {},
   "outputs": [
    {
     "data": {
      "text/plain": [
       "Text(0.5, 257.44, 'Predicted label')"
      ]
     },
     "execution_count": 7,
     "metadata": {},
     "output_type": "execute_result"
    },
    {
     "data": {
      "image/png": "[encoded data removed]",
      "text/plain": [
       "<Figure size 432x288 with 2 Axes>"
      ]
     },
     "metadata": {
      "needs_background": "light"
     },
     "output_type": "display_data"
    }
   ],
   "source": [
    "class_names=[0,1] # name  of classes\n",
    "fig, ax = plt.subplots()\n",
    "tick_marks = np.arange(len(class_names))\n",
    "plt.xticks(tick_marks, class_names)\n",
    "plt.yticks(tick_marks, class_names)\n",
    "# create heatmap\n",
    "sns.heatmap(pd.DataFrame(cnf_matrix), annot=True, cmap=\"YlGnBu\" ,fmt='g')\n",
    "ax.xaxis.set_label_position(\"top\")\n",
    "plt.tight_layout()\n",
    "plt.title('Confusion matrix', y=1.1)\n",
    "plt.ylabel('Actual label')\n",
    "plt.xlabel('Predicted label')"
   ]
  },
  {
   "cell_type": "code",
   "execution_count": 8,
   "metadata": {},
   "outputs": [
    {
     "name": "stdout",
     "output_type": "stream",
     "text": [
      "Misclassification: 0.24193548387096775\n",
      "Sensitivity: 8.0\n",
      "Specificity: 0.7837837837837838\n"
     ]
    }
   ],
   "source": [
    "tn, fp, fn, tp = confusion_matrix(y_test, y_pred).ravel()\n",
    "print(\"Misclassification:\", 1- metrics.accuracy_score(y_test, y_pred))\n",
    "print(\"Sensitivity:\",tp/tp+fn)\n",
    "print(\"Specificity:\",tn / (tn+fp))"
   ]
  },
  {
   "cell_type": "code",
   "execution_count": 9,
   "metadata": {},
   "outputs": [],
   "source": [
    "from AdvancedAnalytics import NeuralNetwork\n",
    "from sklearn.neural_network import MLPClassifier"
   ]
  },
  {
   "cell_type": "code",
   "execution_count": 10,
   "metadata": {},
   "outputs": [],
   "source": [
    "network_list = [(3), (11), (5,4), (6,5), (7,6), (8,7)]"
   ]
  },
  {
   "cell_type": "code",
   "execution_count": 17,
   "metadata": {
    "scrolled": true
   },
   "outputs": [
    {
     "name": "stdout",
     "output_type": "stream",
     "text": [
      "Network:  3 Misclassification: 0.19354838709677424\n",
      "Network:  3 Sensitivity: 8.0\n",
      "Network:  3 Specificity: 0.7837837837837838 /n\n",
      "Network:  11 Misclassification: 0.14516129032258063\n",
      "Network:  11 Sensitivity: 8.0\n",
      "Network:  11 Specificity: 0.7837837837837838 /n\n",
      "Network:  (5, 4) Misclassification: 0.16129032258064513\n",
      "Network:  (5, 4) Sensitivity: 8.0\n",
      "Network:  (5, 4) Specificity: 0.7837837837837838 /n\n",
      "Network:  (6, 5) Misclassification: 0.19354838709677424\n",
      "Network:  (6, 5) Sensitivity: 8.0\n",
      "Network:  (6, 5) Specificity: 0.7837837837837838 /n\n",
      "Network:  (7, 6) Misclassification: 0.22580645161290325\n",
      "Network:  (7, 6) Sensitivity: 8.0\n",
      "Network:  (7, 6) Specificity: 0.7837837837837838 /n\n",
      "Network:  (8, 7) Misclassification: 0.25806451612903225\n",
      "Network:  (8, 7) Sensitivity: 8.0\n",
      "Network:  (8, 7) Specificity: 0.7837837837837838 /n\n"
     ]
    }
   ],
   "source": [
    "for nn in network_list:\n",
    "    fnn = MLPClassifier(hidden_layer_sizes=nn,solver=\"lbfgs\",alpha=0, activation=\"relu\", max_iter=1000, random_state=12345,tol=0.00000000001)\n",
    "    fnn = fnn.fit(X_train, y_train)\n",
    "    y_pred = fnn.predict(X_test)\n",
    "    print(\"Network: \", nn, \"Misclassification:\", 1- metrics.accuracy_score(y_test, y_pred))\n",
    "    print(\"Network: \", nn, \"Sensitivity:\",tp/tp+fn)\n",
    "    print(\"Network: \", nn, \"Specificity:\",tn / (tn+fp), \"/n\")\n",
    "    "
   ]
  },
  {
   "cell_type": "markdown",
   "metadata": {},
   "source": [
    "We find the best result with Network size 11 with 2 hidden layers."
   ]
  },
  {
   "cell_type": "code",
   "execution_count": 19,
   "metadata": {},
   "outputs": [],
   "source": [
    "fnn = MLPClassifier(hidden_layer_sizes=(11),solver=\"lbfgs\",alpha=0, activation=\"relu\", max_iter=1000, random_state=12345,tol=0.00000000001)\n",
    "fnn = fnn.fit(X_train, y_train)\n",
    "y_pred = fnn.predict(X_test)\n",
    "cnf_matrix = metrics.confusion_matrix(y_test, y_pred)\n"
   ]
  },
  {
   "cell_type": "code",
   "execution_count": 20,
   "metadata": {},
   "outputs": [
    {
     "data": {
      "text/plain": [
       "Text(0.5, 257.44, 'Predicted label')"
      ]
     },
     "execution_count": 20,
     "metadata": {},
     "output_type": "execute_result"
    },
    {
     "data": {
      "image/png": "[encoded data removed]",
      "text/plain": [
       "<Figure size 432x288 with 2 Axes>"
      ]
     },
     "metadata": {
      "needs_background": "light"
     },
     "output_type": "display_data"
    }
   ],
   "source": [
    "class_names=[0,1] # name  of classes\n",
    "fig, ax = plt.subplots()\n",
    "tick_marks = np.arange(len(class_names))\n",
    "plt.xticks(tick_marks, class_names)\n",
    "plt.yticks(tick_marks, class_names)\n",
    "# create heatmap\n",
    "sns.heatmap(pd.DataFrame(cnf_matrix), annot=True, cmap=\"YlGnBu\" ,fmt='g')\n",
    "ax.xaxis.set_label_position(\"top\")\n",
    "plt.tight_layout()\n",
    "plt.title('Confusion matrix', y=1.1)\n",
    "plt.ylabel('Actual label')\n",
    "plt.xlabel('Predicted label')"
   ]
  },
  {
   "cell_type": "markdown",
   "metadata": {},
   "source": [
    "We find the best result from the Network Size: 11 and hidden layer size: 2, with accuracy rate of 0.854"
   ]
  }
 ],
 "metadata": {
  "kernelspec": {
   "display_name": "Python 3",
   "language": "python",
   "name": "python3"
  },
  "language_info": {
   "codemirror_mode": {
    "name": "ipython",
    "version": 3
   },
   "file_extension": ".py",
   "mimetype": "text/x-python",
   "name": "python",
   "nbconvert_exporter": "python",
   "pygments_lexer": "ipython3",
   "version": "3.6.7"
  }
 },
 "nbformat": 4,
 "nbformat_minor": 2
}
